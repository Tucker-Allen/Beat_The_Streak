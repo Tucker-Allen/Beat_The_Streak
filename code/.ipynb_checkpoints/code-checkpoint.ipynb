{
 "cells": [
  {
   "cell_type": "code",
   "execution_count": 45,
   "metadata": {
    "collapsed": true
   },
   "outputs": [],
   "source": [
    "import pandas as pd\n",
    "from collections import Counter"
   ]
  },
  {
   "cell_type": "code",
   "execution_count": 227,
   "metadata": {},
   "outputs": [],
   "source": [
    "df = pd.read_csv('../data/batting.csv', sep=':', index_col=False)"
   ]
  },
  {
   "cell_type": "code",
   "execution_count": 228,
   "metadata": {},
   "outputs": [
    {
     "data": {
      "text/html": [
       "<div>\n",
       "<style>\n",
       "    .dataframe thead tr:only-child th {\n",
       "        text-align: right;\n",
       "    }\n",
       "\n",
       "    .dataframe thead th {\n",
       "        text-align: left;\n",
       "    }\n",
       "\n",
       "    .dataframe tbody tr th {\n",
       "        vertical-align: top;\n",
       "    }\n",
       "</style>\n",
       "<table border=\"1\" class=\"dataframe\">\n",
       "  <thead>\n",
       "    <tr style=\"text-align: right;\">\n",
       "      <th></th>\n",
       "      <th>GID</th>\n",
       "      <th>MLB_ID</th>\n",
       "      <th>Name_Last_First</th>\n",
       "      <th>Name_First_Last</th>\n",
       "      <th>P/H</th>\n",
       "      <th>Hand</th>\n",
       "      <th>Date</th>\n",
       "      <th>Team</th>\n",
       "      <th>Oppt</th>\n",
       "      <th>H/A</th>\n",
       "      <th>...</th>\n",
       "      <th>DD_points</th>\n",
       "      <th>YH_points</th>\n",
       "      <th>FD_salary</th>\n",
       "      <th>DK_salary</th>\n",
       "      <th>DD_salary</th>\n",
       "      <th>YH_salary</th>\n",
       "      <th>FD_pos</th>\n",
       "      <th>DK_pos</th>\n",
       "      <th>DD_pos</th>\n",
       "      <th>YH_pos</th>\n",
       "    </tr>\n",
       "  </thead>\n",
       "  <tbody>\n",
       "    <tr>\n",
       "      <th>0</th>\n",
       "      <td>2407</td>\n",
       "      <td>547989</td>\n",
       "      <td>Abreu, Jose</td>\n",
       "      <td>Jose Abreu</td>\n",
       "      <td>H</td>\n",
       "      <td>R</td>\n",
       "      <td>20180424</td>\n",
       "      <td>chw</td>\n",
       "      <td>sea</td>\n",
       "      <td>h</td>\n",
       "      <td>...</td>\n",
       "      <td>NaN</td>\n",
       "      <td>NaN</td>\n",
       "      <td>3600.0</td>\n",
       "      <td>NaN</td>\n",
       "      <td>NaN</td>\n",
       "      <td>18.0</td>\n",
       "      <td>3.0</td>\n",
       "      <td>NaN</td>\n",
       "      <td>NaN</td>\n",
       "      <td>3.0</td>\n",
       "    </tr>\n",
       "    <tr>\n",
       "      <th>1</th>\n",
       "      <td>2407</td>\n",
       "      <td>547989</td>\n",
       "      <td>Abreu, Jose</td>\n",
       "      <td>Jose Abreu</td>\n",
       "      <td>H</td>\n",
       "      <td>R</td>\n",
       "      <td>20180423</td>\n",
       "      <td>chw</td>\n",
       "      <td>sea</td>\n",
       "      <td>h</td>\n",
       "      <td>...</td>\n",
       "      <td>79.0</td>\n",
       "      <td>31.8</td>\n",
       "      <td>3600.0</td>\n",
       "      <td>4000.0</td>\n",
       "      <td>NaN</td>\n",
       "      <td>18.0</td>\n",
       "      <td>3.0</td>\n",
       "      <td>3.0</td>\n",
       "      <td>NaN</td>\n",
       "      <td>3.0</td>\n",
       "    </tr>\n",
       "    <tr>\n",
       "      <th>2</th>\n",
       "      <td>2407</td>\n",
       "      <td>547989</td>\n",
       "      <td>Abreu, Jose</td>\n",
       "      <td>Jose Abreu</td>\n",
       "      <td>H</td>\n",
       "      <td>R</td>\n",
       "      <td>20180422</td>\n",
       "      <td>chw</td>\n",
       "      <td>hou</td>\n",
       "      <td>h</td>\n",
       "      <td>...</td>\n",
       "      <td>2.0</td>\n",
       "      <td>2.1</td>\n",
       "      <td>3500.0</td>\n",
       "      <td>3900.0</td>\n",
       "      <td>NaN</td>\n",
       "      <td>18.0</td>\n",
       "      <td>3.0</td>\n",
       "      <td>3.0</td>\n",
       "      <td>NaN</td>\n",
       "      <td>3.0</td>\n",
       "    </tr>\n",
       "    <tr>\n",
       "      <th>3</th>\n",
       "      <td>2407</td>\n",
       "      <td>547989</td>\n",
       "      <td>Abreu, Jose</td>\n",
       "      <td>Jose Abreu</td>\n",
       "      <td>H</td>\n",
       "      <td>R</td>\n",
       "      <td>20180421</td>\n",
       "      <td>chw</td>\n",
       "      <td>hou</td>\n",
       "      <td>h</td>\n",
       "      <td>...</td>\n",
       "      <td>8.0</td>\n",
       "      <td>4.2</td>\n",
       "      <td>3500.0</td>\n",
       "      <td>4100.0</td>\n",
       "      <td>NaN</td>\n",
       "      <td>19.0</td>\n",
       "      <td>3.0</td>\n",
       "      <td>3.0</td>\n",
       "      <td>NaN</td>\n",
       "      <td>3.0</td>\n",
       "    </tr>\n",
       "    <tr>\n",
       "      <th>4</th>\n",
       "      <td>2407</td>\n",
       "      <td>547989</td>\n",
       "      <td>Abreu, Jose</td>\n",
       "      <td>Jose Abreu</td>\n",
       "      <td>H</td>\n",
       "      <td>R</td>\n",
       "      <td>20180420</td>\n",
       "      <td>chw</td>\n",
       "      <td>hou</td>\n",
       "      <td>h</td>\n",
       "      <td>...</td>\n",
       "      <td>2.0</td>\n",
       "      <td>2.1</td>\n",
       "      <td>3500.0</td>\n",
       "      <td>4000.0</td>\n",
       "      <td>NaN</td>\n",
       "      <td>16.0</td>\n",
       "      <td>3.0</td>\n",
       "      <td>3.0</td>\n",
       "      <td>NaN</td>\n",
       "      <td>3.0</td>\n",
       "    </tr>\n",
       "  </tbody>\n",
       "</table>\n",
       "<p>5 rows × 47 columns</p>\n",
       "</div>"
      ],
      "text/plain": [
       "    GID  MLB_ID Name_Last_First Name_First_Last P/H Hand      Date Team Oppt  \\\n",
       "0  2407  547989     Abreu, Jose      Jose Abreu   H    R  20180424  chw  sea   \n",
       "1  2407  547989     Abreu, Jose      Jose Abreu   H    R  20180423  chw  sea   \n",
       "2  2407  547989     Abreu, Jose      Jose Abreu   H    R  20180422  chw  hou   \n",
       "3  2407  547989     Abreu, Jose      Jose Abreu   H    R  20180421  chw  hou   \n",
       "4  2407  547989     Abreu, Jose      Jose Abreu   H    R  20180420  chw  hou   \n",
       "\n",
       "  H/A  ...    DD_points YH_points  FD_salary  DK_salary  DD_salary YH_salary  \\\n",
       "0   h  ...          NaN       NaN     3600.0        NaN        NaN      18.0   \n",
       "1   h  ...         79.0      31.8     3600.0     4000.0        NaN      18.0   \n",
       "2   h  ...          2.0       2.1     3500.0     3900.0        NaN      18.0   \n",
       "3   h  ...          8.0       4.2     3500.0     4100.0        NaN      19.0   \n",
       "4   h  ...          2.0       2.1     3500.0     4000.0        NaN      16.0   \n",
       "\n",
       "   FD_pos DK_pos  DD_pos YH_pos  \n",
       "0     3.0    NaN     NaN    3.0  \n",
       "1     3.0    3.0     NaN    3.0  \n",
       "2     3.0    3.0     NaN    3.0  \n",
       "3     3.0    3.0     NaN    3.0  \n",
       "4     3.0    3.0     NaN    3.0  \n",
       "\n",
       "[5 rows x 47 columns]"
      ]
     },
     "execution_count": 228,
     "metadata": {},
     "output_type": "execute_result"
    }
   ],
   "source": [
    "df.head()"
   ]
  },
  {
   "cell_type": "code",
   "execution_count": 229,
   "metadata": {},
   "outputs": [
    {
     "data": {
      "text/plain": [
       "(7224, 47)"
      ]
     },
     "execution_count": 229,
     "metadata": {},
     "output_type": "execute_result"
    }
   ],
   "source": [
    "df.shape"
   ]
  },
  {
   "cell_type": "code",
   "execution_count": 230,
   "metadata": {},
   "outputs": [
    {
     "data": {
      "text/plain": [
       "Index(['GID', 'MLB_ID', 'Name_Last_First', 'Name_First_Last', 'P/H', 'Hand',\n",
       "       'Date', 'Team', 'Oppt', 'H/A', 'Game#', 'Game_ID', 'Gametime_ET',\n",
       "       'Team_score', 'Oppt_score', 'Home_Ump', 'Temp', 'Condition', 'W_speed',\n",
       "       'W_dir', 'ADI', 'prior_ADI', 'GS', 'GP', 'Pos', 'Order',\n",
       "       'Oppt_pitch_hand', 'Oppt_pich_GID', 'Oppt_pitch_MLB_ID',\n",
       "       'Oppt_pitch_Name', 'PA', 'wOBA_num', 'IP', 'W/L/S', 'QS', 'FD_points',\n",
       "       'DK_points', 'DD_points', 'YH_points', 'FD_salary', 'DK_salary',\n",
       "       'DD_salary', 'YH_salary', 'FD_pos', 'DK_pos', 'DD_pos', 'YH_pos'],\n",
       "      dtype='object')"
      ]
     },
     "execution_count": 230,
     "metadata": {},
     "output_type": "execute_result"
    }
   ],
   "source": [
    "df.columns"
   ]
  },
  {
   "cell_type": "markdown",
   "metadata": {},
   "source": [
    "http://rotoguru1.com/cgi-bin/mlb-dbd-2018.pl\n",
    "\n",
    "- P/H: Designates 'Pitcher' or 'Hitter\n",
    "- Hand: Designates 'Left', 'Right' or 'Both'\n",
    "- H/A: Designates 'Home' or 'Away'\n",
    "- Game#: Designates '1' or '2' if doubleheader\n",
    "- Gametime_ET: Designates start of game EST\n",
    "- ADI: Air Density Index (based on weather and elevation).Higher ADI means more ball movement is possible (Denver usually has lowest ADI), is displayed on a 100 scale and a comparative index is used to determine the individual players' familiarity with how much movement he will face\n",
    "- GS: 'Game Started', '1' designates starter, 'asp' reserved for some pitchers\n",
    "- GP: 'Game Played', '1' for he played\n",
    "- PA: Plate Appearances\n",
    "- PA: unknown (ranges from 0.0 to 8.0)\n",
    "- wOBA_num: \"using Fangraphics base coefficients\"\n",
    "- QS: unknown"
   ]
  },
  {
   "cell_type": "markdown",
   "metadata": {},
   "source": [
    "## FanDuel Scoring:\n",
    "- Singles: 3pts\n",
    "- Doubles: 6pts\n",
    "- Triples: 9pts\n",
    "- Walks: 3pts\n",
    "- HBP: 3pts\n",
    "- Homeruns: 12pts\n",
    "- Runs: 3.2pts\n",
    "- RBI: 3.5pts\n",
    "- Stolen Base: 6pts\n",
    "\n",
    "- ER: -3pts\n",
    "- IP: 3pts\n",
    "- Qstart: 4pts\n",
    "- SO: 3pts\n",
    "- Wins: 6pts"
   ]
  },
  {
   "cell_type": "code",
   "execution_count": 231,
   "metadata": {
    "scrolled": true
   },
   "outputs": [
    {
     "data": {
      "text/plain": [
       "array([20180424])"
      ]
     },
     "execution_count": 231,
     "metadata": {},
     "output_type": "execute_result"
    }
   ],
   "source": [
    "df[df['Condition'].isnull()]['Date'].unique()"
   ]
  },
  {
   "cell_type": "code",
   "execution_count": 232,
   "metadata": {},
   "outputs": [],
   "source": [
    "df = df[df['Date'] != 20180424]"
   ]
  },
  {
   "cell_type": "code",
   "execution_count": 233,
   "metadata": {
    "collapsed": true
   },
   "outputs": [],
   "source": [
    "df.drop(['DK_points', 'DD_points', 'YH_points', 'DK_salary', 'DD_salary', 'YH_salary',\n",
    "             'DK_pos', 'DD_pos', 'YH_pos'], axis=1, inplace=True)"
   ]
  },
  {
   "cell_type": "code",
   "execution_count": 234,
   "metadata": {
    "collapsed": true
   },
   "outputs": [],
   "source": [
    "df['Date'] = pd.to_datetime(df['Date'], format='%Y%m%d')"
   ]
  },
  {
   "cell_type": "code",
   "execution_count": 235,
   "metadata": {
    "collapsed": true
   },
   "outputs": [],
   "source": [
    "df.sort_values(['MLB_ID', 'Date'], inplace=True)"
   ]
  },
  {
   "cell_type": "code",
   "execution_count": 236,
   "metadata": {},
   "outputs": [],
   "source": [
    "df.reset_index(drop=True, inplace=True)"
   ]
  },
  {
   "cell_type": "markdown",
   "metadata": {},
   "source": [
    "## Separate hitters and pitchers df"
   ]
  },
  {
   "cell_type": "code",
   "execution_count": 237,
   "metadata": {},
   "outputs": [],
   "source": [
    "pitchers = df[df['P/H']=='P']\n",
    "hitters = df[df['P/H']=='H']"
   ]
  },
  {
   "cell_type": "code",
   "execution_count": 238,
   "metadata": {},
   "outputs": [
    {
     "name": "stdout",
     "output_type": "stream",
     "text": [
      "(644, 38)\n",
      "(5476, 38)\n"
     ]
    }
   ],
   "source": [
    "print(pitchers.shape)\n",
    "print(hitters.shape)"
   ]
  },
  {
   "cell_type": "code",
   "execution_count": 239,
   "metadata": {},
   "outputs": [
    {
     "name": "stderr",
     "output_type": "stream",
     "text": [
      "/anaconda3/lib/python3.6/site-packages/ipykernel/__main__.py:1: SettingWithCopyWarning: \n",
      "A value is trying to be set on a copy of a slice from a DataFrame\n",
      "\n",
      "See the caveats in the documentation: http://pandas.pydata.org/pandas-docs/stable/indexing.html#indexing-view-versus-copy\n",
      "  if __name__ == '__main__':\n"
     ]
    }
   ],
   "source": [
    "hitters.drop(['IP', 'W/L/S', 'QS'], axis=1, inplace=True)"
   ]
  },
  {
   "cell_type": "code",
   "execution_count": 240,
   "metadata": {},
   "outputs": [
    {
     "name": "stderr",
     "output_type": "stream",
     "text": [
      "/anaconda3/lib/python3.6/site-packages/ipykernel/__main__.py:1: SettingWithCopyWarning: \n",
      "A value is trying to be set on a copy of a slice from a DataFrame\n",
      "\n",
      "See the caveats in the documentation: http://pandas.pydata.org/pandas-docs/stable/indexing.html#indexing-view-versus-copy\n",
      "  if __name__ == '__main__':\n"
     ]
    }
   ],
   "source": [
    "hitters.drop(['prior_ADI', 'GS', 'GP'], axis=1, inplace=True)"
   ]
  },
  {
   "cell_type": "code",
   "execution_count": 241,
   "metadata": {},
   "outputs": [
    {
     "data": {
      "text/plain": [
       "GID                    0\n",
       "MLB_ID                 0\n",
       "Name_Last_First        0\n",
       "Name_First_Last        0\n",
       "P/H                    0\n",
       "Hand                   0\n",
       "Date                   0\n",
       "Team                   0\n",
       "Oppt                   0\n",
       "H/A                    0\n",
       "Game#                  0\n",
       "Game_ID                0\n",
       "Gametime_ET            0\n",
       "Team_score             0\n",
       "Oppt_score             0\n",
       "Home_Ump               0\n",
       "Temp                   0\n",
       "Condition              0\n",
       "W_speed                0\n",
       "W_dir                  0\n",
       "ADI                   52\n",
       "Pos                    0\n",
       "Order                  0\n",
       "Oppt_pitch_hand        0\n",
       "Oppt_pich_GID          0\n",
       "Oppt_pitch_MLB_ID      0\n",
       "Oppt_pitch_Name        0\n",
       "PA                     0\n",
       "wOBA_num               0\n",
       "FD_points              0\n",
       "FD_salary            154\n",
       "FD_pos               154\n",
       "dtype: int64"
      ]
     },
     "execution_count": 241,
     "metadata": {},
     "output_type": "execute_result"
    }
   ],
   "source": [
    "hitters.isnull().sum()"
   ]
  },
  {
   "cell_type": "code",
   "execution_count": 242,
   "metadata": {},
   "outputs": [
    {
     "name": "stderr",
     "output_type": "stream",
     "text": [
      "/anaconda3/lib/python3.6/site-packages/ipykernel/__main__.py:1: SettingWithCopyWarning: \n",
      "A value is trying to be set on a copy of a slice from a DataFrame\n",
      "\n",
      "See the caveats in the documentation: http://pandas.pydata.org/pandas-docs/stable/indexing.html#indexing-view-versus-copy\n",
      "  if __name__ == '__main__':\n"
     ]
    }
   ],
   "source": [
    "hitters.dropna(inplace=True)"
   ]
  },
  {
   "cell_type": "code",
   "execution_count": 243,
   "metadata": {
    "scrolled": true
   },
   "outputs": [
    {
     "data": {
      "text/html": [
       "<div>\n",
       "<style>\n",
       "    .dataframe thead tr:only-child th {\n",
       "        text-align: right;\n",
       "    }\n",
       "\n",
       "    .dataframe thead th {\n",
       "        text-align: left;\n",
       "    }\n",
       "\n",
       "    .dataframe tbody tr th {\n",
       "        vertical-align: top;\n",
       "    }\n",
       "</style>\n",
       "<table border=\"1\" class=\"dataframe\">\n",
       "  <thead>\n",
       "    <tr style=\"text-align: right;\">\n",
       "      <th></th>\n",
       "      <th>GID</th>\n",
       "      <th>MLB_ID</th>\n",
       "      <th>Name_Last_First</th>\n",
       "      <th>Name_First_Last</th>\n",
       "      <th>P/H</th>\n",
       "      <th>Hand</th>\n",
       "      <th>Date</th>\n",
       "      <th>Team</th>\n",
       "      <th>Oppt</th>\n",
       "      <th>H/A</th>\n",
       "      <th>...</th>\n",
       "      <th>Order</th>\n",
       "      <th>Oppt_pitch_hand</th>\n",
       "      <th>Oppt_pich_GID</th>\n",
       "      <th>Oppt_pitch_MLB_ID</th>\n",
       "      <th>Oppt_pitch_Name</th>\n",
       "      <th>PA</th>\n",
       "      <th>wOBA_num</th>\n",
       "      <th>FD_points</th>\n",
       "      <th>FD_salary</th>\n",
       "      <th>FD_pos</th>\n",
       "    </tr>\n",
       "  </thead>\n",
       "  <tbody>\n",
       "    <tr>\n",
       "      <th>3</th>\n",
       "      <td>5006</td>\n",
       "      <td>134181</td>\n",
       "      <td>Beltre, Adrian</td>\n",
       "      <td>Adrian Beltre</td>\n",
       "      <td>H</td>\n",
       "      <td>R</td>\n",
       "      <td>2018-03-29</td>\n",
       "      <td>tex</td>\n",
       "      <td>hou</td>\n",
       "      <td>h</td>\n",
       "      <td>...</td>\n",
       "      <td>4.0</td>\n",
       "      <td>R</td>\n",
       "      <td>1524</td>\n",
       "      <td>434378</td>\n",
       "      <td>Verlander, Justin</td>\n",
       "      <td>4.0</td>\n",
       "      <td>1.80</td>\n",
       "      <td>6.0</td>\n",
       "      <td>3000.0</td>\n",
       "      <td>5.0</td>\n",
       "    </tr>\n",
       "    <tr>\n",
       "      <th>4</th>\n",
       "      <td>5006</td>\n",
       "      <td>134181</td>\n",
       "      <td>Beltre, Adrian</td>\n",
       "      <td>Adrian Beltre</td>\n",
       "      <td>H</td>\n",
       "      <td>R</td>\n",
       "      <td>2018-03-30</td>\n",
       "      <td>tex</td>\n",
       "      <td>hou</td>\n",
       "      <td>h</td>\n",
       "      <td>...</td>\n",
       "      <td>4.0</td>\n",
       "      <td>L</td>\n",
       "      <td>112n</td>\n",
       "      <td>572971</td>\n",
       "      <td>Keuchel, Dallas</td>\n",
       "      <td>4.0</td>\n",
       "      <td>1.25</td>\n",
       "      <td>9.2</td>\n",
       "      <td>3000.0</td>\n",
       "      <td>5.0</td>\n",
       "    </tr>\n",
       "    <tr>\n",
       "      <th>5</th>\n",
       "      <td>5006</td>\n",
       "      <td>134181</td>\n",
       "      <td>Beltre, Adrian</td>\n",
       "      <td>Adrian Beltre</td>\n",
       "      <td>H</td>\n",
       "      <td>R</td>\n",
       "      <td>2018-03-31</td>\n",
       "      <td>tex</td>\n",
       "      <td>hou</td>\n",
       "      <td>h</td>\n",
       "      <td>...</td>\n",
       "      <td>3.0</td>\n",
       "      <td>R</td>\n",
       "      <td>128q</td>\n",
       "      <td>621121</td>\n",
       "      <td>McCullers, Lance</td>\n",
       "      <td>3.0</td>\n",
       "      <td>1.25</td>\n",
       "      <td>9.5</td>\n",
       "      <td>3100.0</td>\n",
       "      <td>5.0</td>\n",
       "    </tr>\n",
       "    <tr>\n",
       "      <th>6</th>\n",
       "      <td>5006</td>\n",
       "      <td>134181</td>\n",
       "      <td>Beltre, Adrian</td>\n",
       "      <td>Adrian Beltre</td>\n",
       "      <td>H</td>\n",
       "      <td>R</td>\n",
       "      <td>2018-04-01</td>\n",
       "      <td>tex</td>\n",
       "      <td>hou</td>\n",
       "      <td>h</td>\n",
       "      <td>...</td>\n",
       "      <td>3.0</td>\n",
       "      <td>R</td>\n",
       "      <td>110g</td>\n",
       "      <td>543037</td>\n",
       "      <td>Cole, Gerrit</td>\n",
       "      <td>4.0</td>\n",
       "      <td>0.70</td>\n",
       "      <td>3.0</td>\n",
       "      <td>3100.0</td>\n",
       "      <td>5.0</td>\n",
       "    </tr>\n",
       "    <tr>\n",
       "      <th>7</th>\n",
       "      <td>5006</td>\n",
       "      <td>134181</td>\n",
       "      <td>Beltre, Adrian</td>\n",
       "      <td>Adrian Beltre</td>\n",
       "      <td>H</td>\n",
       "      <td>R</td>\n",
       "      <td>2018-04-02</td>\n",
       "      <td>tex</td>\n",
       "      <td>oak</td>\n",
       "      <td>a</td>\n",
       "      <td>...</td>\n",
       "      <td>4.0</td>\n",
       "      <td>R</td>\n",
       "      <td>136c</td>\n",
       "      <td>592811</td>\n",
       "      <td>Triggs, Andrew</td>\n",
       "      <td>4.0</td>\n",
       "      <td>0.00</td>\n",
       "      <td>0.0</td>\n",
       "      <td>3200.0</td>\n",
       "      <td>5.0</td>\n",
       "    </tr>\n",
       "  </tbody>\n",
       "</table>\n",
       "<p>5 rows × 32 columns</p>\n",
       "</div>"
      ],
      "text/plain": [
       "    GID  MLB_ID Name_Last_First Name_First_Last P/H Hand       Date Team Oppt  \\\n",
       "3  5006  134181  Beltre, Adrian   Adrian Beltre   H    R 2018-03-29  tex  hou   \n",
       "4  5006  134181  Beltre, Adrian   Adrian Beltre   H    R 2018-03-30  tex  hou   \n",
       "5  5006  134181  Beltre, Adrian   Adrian Beltre   H    R 2018-03-31  tex  hou   \n",
       "6  5006  134181  Beltre, Adrian   Adrian Beltre   H    R 2018-04-01  tex  hou   \n",
       "7  5006  134181  Beltre, Adrian   Adrian Beltre   H    R 2018-04-02  tex  oak   \n",
       "\n",
       "  H/A  ...    Order Oppt_pitch_hand  Oppt_pich_GID  Oppt_pitch_MLB_ID  \\\n",
       "3   h  ...      4.0               R           1524             434378   \n",
       "4   h  ...      4.0               L           112n             572971   \n",
       "5   h  ...      3.0               R           128q             621121   \n",
       "6   h  ...      3.0               R           110g             543037   \n",
       "7   a  ...      4.0               R           136c             592811   \n",
       "\n",
       "     Oppt_pitch_Name   PA  wOBA_num FD_points  FD_salary FD_pos  \n",
       "3  Verlander, Justin  4.0      1.80       6.0     3000.0    5.0  \n",
       "4    Keuchel, Dallas  4.0      1.25       9.2     3000.0    5.0  \n",
       "5   McCullers, Lance  3.0      1.25       9.5     3100.0    5.0  \n",
       "6       Cole, Gerrit  4.0      0.70       3.0     3100.0    5.0  \n",
       "7     Triggs, Andrew  4.0      0.00       0.0     3200.0    5.0  \n",
       "\n",
       "[5 rows x 32 columns]"
      ]
     },
     "execution_count": 243,
     "metadata": {},
     "output_type": "execute_result"
    }
   ],
   "source": [
    "hitters.head()"
   ]
  },
  {
   "cell_type": "code",
   "execution_count": 244,
   "metadata": {},
   "outputs": [],
   "source": [
    "hitters.set_index(['MLB_ID', 'Date'], drop=False, inplace=True)"
   ]
  },
  {
   "cell_type": "code",
   "execution_count": 245,
   "metadata": {},
   "outputs": [
    {
     "data": {
      "text/plain": [
       "Index(['GID', 'MLB_ID', 'Name_Last_First', 'Name_First_Last', 'P/H', 'Hand',\n",
       "       'Date', 'Team', 'Oppt', 'H/A', 'Game#', 'Game_ID', 'Gametime_ET',\n",
       "       'Team_score', 'Oppt_score', 'Home_Ump', 'Temp', 'Condition', 'W_speed',\n",
       "       'W_dir', 'ADI', 'Pos', 'Order', 'Oppt_pitch_hand', 'Oppt_pich_GID',\n",
       "       'Oppt_pitch_MLB_ID', 'Oppt_pitch_Name', 'PA', 'wOBA_num', 'FD_points',\n",
       "       'FD_salary', 'FD_pos'],\n",
       "      dtype='object')"
      ]
     },
     "execution_count": 245,
     "metadata": {},
     "output_type": "execute_result"
    }
   ],
   "source": [
    "hitters.columns"
   ]
  },
  {
   "cell_type": "code",
   "execution_count": 259,
   "metadata": {},
   "outputs": [
    {
     "data": {
      "text/html": [
       "<div>\n",
       "<style>\n",
       "    .dataframe thead tr:only-child th {\n",
       "        text-align: right;\n",
       "    }\n",
       "\n",
       "    .dataframe thead th {\n",
       "        text-align: left;\n",
       "    }\n",
       "\n",
       "    .dataframe tbody tr th {\n",
       "        vertical-align: top;\n",
       "    }\n",
       "</style>\n",
       "<table border=\"1\" class=\"dataframe\">\n",
       "  <thead>\n",
       "    <tr style=\"text-align: right;\">\n",
       "      <th></th>\n",
       "      <th></th>\n",
       "      <th>GID</th>\n",
       "      <th>MLB_ID</th>\n",
       "      <th>Name_Last_First</th>\n",
       "      <th>Name_First_Last</th>\n",
       "      <th>P/H</th>\n",
       "      <th>Hand</th>\n",
       "      <th>Date</th>\n",
       "      <th>Team</th>\n",
       "      <th>Oppt</th>\n",
       "      <th>H/A</th>\n",
       "      <th>...</th>\n",
       "      <th>Order</th>\n",
       "      <th>Oppt_pitch_hand</th>\n",
       "      <th>Oppt_pich_GID</th>\n",
       "      <th>Oppt_pitch_MLB_ID</th>\n",
       "      <th>Oppt_pitch_Name</th>\n",
       "      <th>PA</th>\n",
       "      <th>wOBA_num</th>\n",
       "      <th>FD_points</th>\n",
       "      <th>FD_salary</th>\n",
       "      <th>FD_pos</th>\n",
       "    </tr>\n",
       "    <tr>\n",
       "      <th>MLB_ID</th>\n",
       "      <th>Date</th>\n",
       "      <th></th>\n",
       "      <th></th>\n",
       "      <th></th>\n",
       "      <th></th>\n",
       "      <th></th>\n",
       "      <th></th>\n",
       "      <th></th>\n",
       "      <th></th>\n",
       "      <th></th>\n",
       "      <th></th>\n",
       "      <th></th>\n",
       "      <th></th>\n",
       "      <th></th>\n",
       "      <th></th>\n",
       "      <th></th>\n",
       "      <th></th>\n",
       "      <th></th>\n",
       "      <th></th>\n",
       "      <th></th>\n",
       "      <th></th>\n",
       "      <th></th>\n",
       "    </tr>\n",
       "  </thead>\n",
       "  <tbody>\n",
       "    <tr>\n",
       "      <th rowspan=\"5\" valign=\"top\">134181</th>\n",
       "      <th>2018-03-29</th>\n",
       "      <td>5006</td>\n",
       "      <td>134181</td>\n",
       "      <td>Beltre, Adrian</td>\n",
       "      <td>Adrian Beltre</td>\n",
       "      <td>H</td>\n",
       "      <td>R</td>\n",
       "      <td>2018-03-29</td>\n",
       "      <td>tex</td>\n",
       "      <td>hou</td>\n",
       "      <td>h</td>\n",
       "      <td>...</td>\n",
       "      <td>4.0</td>\n",
       "      <td>R</td>\n",
       "      <td>1524</td>\n",
       "      <td>434378</td>\n",
       "      <td>Verlander, Justin</td>\n",
       "      <td>4.0</td>\n",
       "      <td>1.80</td>\n",
       "      <td>6.0</td>\n",
       "      <td>3000.0</td>\n",
       "      <td>5.0</td>\n",
       "    </tr>\n",
       "    <tr>\n",
       "      <th>2018-03-30</th>\n",
       "      <td>5006</td>\n",
       "      <td>134181</td>\n",
       "      <td>Beltre, Adrian</td>\n",
       "      <td>Adrian Beltre</td>\n",
       "      <td>H</td>\n",
       "      <td>R</td>\n",
       "      <td>2018-03-30</td>\n",
       "      <td>tex</td>\n",
       "      <td>hou</td>\n",
       "      <td>h</td>\n",
       "      <td>...</td>\n",
       "      <td>4.0</td>\n",
       "      <td>L</td>\n",
       "      <td>112n</td>\n",
       "      <td>572971</td>\n",
       "      <td>Keuchel, Dallas</td>\n",
       "      <td>4.0</td>\n",
       "      <td>1.25</td>\n",
       "      <td>9.2</td>\n",
       "      <td>3000.0</td>\n",
       "      <td>5.0</td>\n",
       "    </tr>\n",
       "    <tr>\n",
       "      <th>2018-03-31</th>\n",
       "      <td>5006</td>\n",
       "      <td>134181</td>\n",
       "      <td>Beltre, Adrian</td>\n",
       "      <td>Adrian Beltre</td>\n",
       "      <td>H</td>\n",
       "      <td>R</td>\n",
       "      <td>2018-03-31</td>\n",
       "      <td>tex</td>\n",
       "      <td>hou</td>\n",
       "      <td>h</td>\n",
       "      <td>...</td>\n",
       "      <td>3.0</td>\n",
       "      <td>R</td>\n",
       "      <td>128q</td>\n",
       "      <td>621121</td>\n",
       "      <td>McCullers, Lance</td>\n",
       "      <td>3.0</td>\n",
       "      <td>1.25</td>\n",
       "      <td>9.5</td>\n",
       "      <td>3100.0</td>\n",
       "      <td>5.0</td>\n",
       "    </tr>\n",
       "    <tr>\n",
       "      <th>2018-04-01</th>\n",
       "      <td>5006</td>\n",
       "      <td>134181</td>\n",
       "      <td>Beltre, Adrian</td>\n",
       "      <td>Adrian Beltre</td>\n",
       "      <td>H</td>\n",
       "      <td>R</td>\n",
       "      <td>2018-04-01</td>\n",
       "      <td>tex</td>\n",
       "      <td>hou</td>\n",
       "      <td>h</td>\n",
       "      <td>...</td>\n",
       "      <td>3.0</td>\n",
       "      <td>R</td>\n",
       "      <td>110g</td>\n",
       "      <td>543037</td>\n",
       "      <td>Cole, Gerrit</td>\n",
       "      <td>4.0</td>\n",
       "      <td>0.70</td>\n",
       "      <td>3.0</td>\n",
       "      <td>3100.0</td>\n",
       "      <td>5.0</td>\n",
       "    </tr>\n",
       "    <tr>\n",
       "      <th>2018-04-02</th>\n",
       "      <td>5006</td>\n",
       "      <td>134181</td>\n",
       "      <td>Beltre, Adrian</td>\n",
       "      <td>Adrian Beltre</td>\n",
       "      <td>H</td>\n",
       "      <td>R</td>\n",
       "      <td>2018-04-02</td>\n",
       "      <td>tex</td>\n",
       "      <td>oak</td>\n",
       "      <td>a</td>\n",
       "      <td>...</td>\n",
       "      <td>4.0</td>\n",
       "      <td>R</td>\n",
       "      <td>136c</td>\n",
       "      <td>592811</td>\n",
       "      <td>Triggs, Andrew</td>\n",
       "      <td>4.0</td>\n",
       "      <td>0.00</td>\n",
       "      <td>0.0</td>\n",
       "      <td>3200.0</td>\n",
       "      <td>5.0</td>\n",
       "    </tr>\n",
       "  </tbody>\n",
       "</table>\n",
       "<p>5 rows × 32 columns</p>\n",
       "</div>"
      ],
      "text/plain": [
       "                    GID  MLB_ID Name_Last_First Name_First_Last P/H Hand  \\\n",
       "MLB_ID Date                                                                \n",
       "134181 2018-03-29  5006  134181  Beltre, Adrian   Adrian Beltre   H    R   \n",
       "       2018-03-30  5006  134181  Beltre, Adrian   Adrian Beltre   H    R   \n",
       "       2018-03-31  5006  134181  Beltre, Adrian   Adrian Beltre   H    R   \n",
       "       2018-04-01  5006  134181  Beltre, Adrian   Adrian Beltre   H    R   \n",
       "       2018-04-02  5006  134181  Beltre, Adrian   Adrian Beltre   H    R   \n",
       "\n",
       "                        Date Team Oppt H/A  ...    Order Oppt_pitch_hand  \\\n",
       "MLB_ID Date                                 ...                            \n",
       "134181 2018-03-29 2018-03-29  tex  hou   h  ...      4.0               R   \n",
       "       2018-03-30 2018-03-30  tex  hou   h  ...      4.0               L   \n",
       "       2018-03-31 2018-03-31  tex  hou   h  ...      3.0               R   \n",
       "       2018-04-01 2018-04-01  tex  hou   h  ...      3.0               R   \n",
       "       2018-04-02 2018-04-02  tex  oak   a  ...      4.0               R   \n",
       "\n",
       "                   Oppt_pich_GID  Oppt_pitch_MLB_ID    Oppt_pitch_Name   PA  \\\n",
       "MLB_ID Date                                                                   \n",
       "134181 2018-03-29           1524             434378  Verlander, Justin  4.0   \n",
       "       2018-03-30           112n             572971    Keuchel, Dallas  4.0   \n",
       "       2018-03-31           128q             621121   McCullers, Lance  3.0   \n",
       "       2018-04-01           110g             543037       Cole, Gerrit  4.0   \n",
       "       2018-04-02           136c             592811     Triggs, Andrew  4.0   \n",
       "\n",
       "                   wOBA_num FD_points  FD_salary FD_pos  \n",
       "MLB_ID Date                                              \n",
       "134181 2018-03-29      1.80       6.0     3000.0    5.0  \n",
       "       2018-03-30      1.25       9.2     3000.0    5.0  \n",
       "       2018-03-31      1.25       9.5     3100.0    5.0  \n",
       "       2018-04-01      0.70       3.0     3100.0    5.0  \n",
       "       2018-04-02      0.00       0.0     3200.0    5.0  \n",
       "\n",
       "[5 rows x 32 columns]"
      ]
     },
     "execution_count": 259,
     "metadata": {},
     "output_type": "execute_result"
    }
   ],
   "source": [
    "hitters.head()"
   ]
  },
  {
   "cell_type": "markdown",
   "metadata": {},
   "source": [
    "# How do I manage L vs. R handed pitchers..."
   ]
  },
  {
   "cell_type": "code",
   "execution_count": 246,
   "metadata": {
    "collapsed": true
   },
   "outputs": [],
   "source": [
    "hitter_ids = hitters['MLB_ID'].unique()\n",
    "window_stats = ['PA', 'Team_score', 'FD_points']"
   ]
  },
  {
   "cell_type": "code",
   "execution_count": null,
   "metadata": {
    "collapsed": true
   },
   "outputs": [],
   "source": [
    "for hitter in hitter_ids:\n",
    "    temp = hitters.loc[hitter]\n",
    "    L_df = temp[temp['Oppt_pitch_hand']=='L']\n",
    "    R_df = temp[temp['Oppt_pitch_hand']=='R']\n",
    "    \n",
    "    ewm_05 = L_df[window_stats].ewm(span=5).mean().shift()\n",
    "    ewm_25 = L_df[window_stats].ewm(span=25).mean().shift()\n",
    "    ewm_50 = L_df[window_stats].ewm(span=50).mean().shift()\n",
    "    rm_80 = L_df[window_stats].rolling(window=80).mean().shift()\n",
    "\n",
    "    this_df = pd.concat([ewm_05, ewm_25, ewm_50, rm_80], axis=1)\n",
    "    \n",
    "    #this_df['school_id'] = team\n",
    "    #this_df['date_game'] = one_team_df['date_game']\n",
    "    #this_df['opp_id'] = one_team_df['opp_id']\n",
    "\n",
    "    #this_df.to_csv('../data/myteam_ewm/'+team.replace(' ', '_')+'.csv')"
   ]
  }
 ],
 "metadata": {
  "kernelspec": {
   "display_name": "Python [default]",
   "language": "python",
   "name": "python3"
  },
  "language_info": {
   "codemirror_mode": {
    "name": "ipython",
    "version": 3
   },
   "file_extension": ".py",
   "mimetype": "text/x-python",
   "name": "python",
   "nbconvert_exporter": "python",
   "pygments_lexer": "ipython3",
   "version": "3.6.3"
  }
 },
 "nbformat": 4,
 "nbformat_minor": 2
}
